{
 "cells": [
  {
   "cell_type": "code",
   "execution_count": 1,
   "metadata": {
    "_kg_hide-output": true,
    "execution": {
     "iopub.execute_input": "2024-01-25T10:33:03.832546Z",
     "iopub.status.busy": "2024-01-25T10:33:03.832106Z",
     "iopub.status.idle": "2024-01-25T10:33:21.929694Z",
     "shell.execute_reply": "2024-01-25T10:33:21.927821Z",
     "shell.execute_reply.started": "2024-01-25T10:33:03.832510Z"
    }
   },
   "outputs": [],
   "source": [
    "%%capture\n",
    "!pip install evaluate"
   ]
  },
  {
   "cell_type": "code",
   "execution_count": 28,
   "metadata": {
    "_kg_hide-output": true,
    "execution": {
     "iopub.execute_input": "2024-01-25T10:46:44.462398Z",
     "iopub.status.busy": "2024-01-25T10:46:44.461542Z",
     "iopub.status.idle": "2024-01-25T10:46:44.471716Z",
     "shell.execute_reply": "2024-01-25T10:46:44.470345Z",
     "shell.execute_reply.started": "2024-01-25T10:46:44.462340Z"
    }
   },
   "outputs": [],
   "source": [
    "from datasets import Dataset, DatasetDict, concatenate_datasets\n",
    "import pandas as pd\n",
    "import numpy as np\n",
    "from transformers import AutoTokenizer, DataCollatorWithPadding, AutoModelForSequenceClassification, TrainingArguments, Trainer\n",
    "import evaluate\n",
    "from sklearn.model_selection import train_test_split\n",
    "from huggingface_hub import notebook_login\n",
    "from tqdm import tqdm"
   ]
  },
  {
   "cell_type": "code",
   "execution_count": 41,
   "metadata": {
    "_kg_hide-output": true,
    "execution": {
     "iopub.execute_input": "2024-01-25T10:29:19.555508Z",
     "iopub.status.busy": "2024-01-25T10:29:19.554724Z",
     "iopub.status.idle": "2024-01-25T10:29:19.584847Z",
     "shell.execute_reply": "2024-01-25T10:29:19.583497Z",
     "shell.execute_reply.started": "2024-01-25T10:29:19.555474Z"
    }
   },
   "outputs": [
    {
     "data": {
      "application/vnd.jupyter.widget-view+json": {
       "model_id": "21af60bb948a4bcb8c3f280630571e78",
       "version_major": 2,
       "version_minor": 0
      },
      "text/plain": [
       "VBox(children=(HTML(value='<center> <img\\nsrc=https://huggingface.co/front/assets/huggingface_logo-noborder.sv…"
      ]
     },
     "metadata": {},
     "output_type": "display_data"
    }
   ],
   "source": [
    "notebook_login()"
   ]
  },
  {
   "cell_type": "code",
   "execution_count": 12,
   "metadata": {
    "_kg_hide-output": true,
    "execution": {
     "iopub.execute_input": "2024-01-25T10:20:00.091116Z",
     "iopub.status.busy": "2024-01-25T10:20:00.090728Z",
     "iopub.status.idle": "2024-01-25T10:20:00.118173Z",
     "shell.execute_reply": "2024-01-25T10:20:00.117175Z",
     "shell.execute_reply.started": "2024-01-25T10:20:00.091089Z"
    }
   },
   "outputs": [],
   "source": [
    "df = pd.read_csv(\"./data/train.csv\", index_col='id')\n",
    "df.rename(columns={'target': 'label'}, inplace=True)"
   ]
  },
  {
   "cell_type": "code",
   "execution_count": 13,
   "metadata": {
    "_kg_hide-output": true,
    "execution": {
     "iopub.execute_input": "2024-01-25T10:20:00.767654Z",
     "iopub.status.busy": "2024-01-25T10:20:00.766805Z",
     "iopub.status.idle": "2024-01-25T10:20:00.773183Z",
     "shell.execute_reply": "2024-01-25T10:20:00.772134Z",
     "shell.execute_reply.started": "2024-01-25T10:20:00.767621Z"
    }
   },
   "outputs": [],
   "source": [
    "columns_to_remove = ['keyword', 'location']\n",
    "df.drop(columns=columns_to_remove, inplace=True)"
   ]
  },
  {
   "cell_type": "code",
   "execution_count": 14,
   "metadata": {
    "_kg_hide-output": true,
    "execution": {
     "iopub.execute_input": "2024-01-25T10:20:01.110873Z",
     "iopub.status.busy": "2024-01-25T10:20:01.110114Z",
     "iopub.status.idle": "2024-01-25T10:20:01.121964Z",
     "shell.execute_reply": "2024-01-25T10:20:01.120879Z",
     "shell.execute_reply.started": "2024-01-25T10:20:01.110844Z"
    }
   },
   "outputs": [
    {
     "data": {
      "text/html": [
       "<div>\n",
       "<style scoped>\n",
       "    .dataframe tbody tr th:only-of-type {\n",
       "        vertical-align: middle;\n",
       "    }\n",
       "\n",
       "    .dataframe tbody tr th {\n",
       "        vertical-align: top;\n",
       "    }\n",
       "\n",
       "    .dataframe thead th {\n",
       "        text-align: right;\n",
       "    }\n",
       "</style>\n",
       "<table border=\"1\" class=\"dataframe\">\n",
       "  <thead>\n",
       "    <tr style=\"text-align: right;\">\n",
       "      <th></th>\n",
       "      <th>text</th>\n",
       "      <th>label</th>\n",
       "    </tr>\n",
       "    <tr>\n",
       "      <th>id</th>\n",
       "      <th></th>\n",
       "      <th></th>\n",
       "    </tr>\n",
       "  </thead>\n",
       "  <tbody>\n",
       "    <tr>\n",
       "      <th>1</th>\n",
       "      <td>Our Deeds are the Reason of this #earthquake M...</td>\n",
       "      <td>1</td>\n",
       "    </tr>\n",
       "    <tr>\n",
       "      <th>4</th>\n",
       "      <td>Forest fire near La Ronge Sask. Canada</td>\n",
       "      <td>1</td>\n",
       "    </tr>\n",
       "    <tr>\n",
       "      <th>5</th>\n",
       "      <td>All residents asked to 'shelter in place' are ...</td>\n",
       "      <td>1</td>\n",
       "    </tr>\n",
       "    <tr>\n",
       "      <th>6</th>\n",
       "      <td>13,000 people receive #wildfires evacuation or...</td>\n",
       "      <td>1</td>\n",
       "    </tr>\n",
       "    <tr>\n",
       "      <th>7</th>\n",
       "      <td>Just got sent this photo from Ruby #Alaska as ...</td>\n",
       "      <td>1</td>\n",
       "    </tr>\n",
       "    <tr>\n",
       "      <th>...</th>\n",
       "      <td>...</td>\n",
       "      <td>...</td>\n",
       "    </tr>\n",
       "    <tr>\n",
       "      <th>10869</th>\n",
       "      <td>Two giant cranes holding a bridge collapse int...</td>\n",
       "      <td>1</td>\n",
       "    </tr>\n",
       "    <tr>\n",
       "      <th>10870</th>\n",
       "      <td>@aria_ahrary @TheTawniest The out of control w...</td>\n",
       "      <td>1</td>\n",
       "    </tr>\n",
       "    <tr>\n",
       "      <th>10871</th>\n",
       "      <td>M1.94 [01:04 UTC]?5km S of Volcano Hawaii. htt...</td>\n",
       "      <td>1</td>\n",
       "    </tr>\n",
       "    <tr>\n",
       "      <th>10872</th>\n",
       "      <td>Police investigating after an e-bike collided ...</td>\n",
       "      <td>1</td>\n",
       "    </tr>\n",
       "    <tr>\n",
       "      <th>10873</th>\n",
       "      <td>The Latest: More Homes Razed by Northern Calif...</td>\n",
       "      <td>1</td>\n",
       "    </tr>\n",
       "  </tbody>\n",
       "</table>\n",
       "<p>7613 rows × 2 columns</p>\n",
       "</div>"
      ],
      "text/plain": [
       "                                                    text  label\n",
       "id                                                             \n",
       "1      Our Deeds are the Reason of this #earthquake M...      1\n",
       "4                 Forest fire near La Ronge Sask. Canada      1\n",
       "5      All residents asked to 'shelter in place' are ...      1\n",
       "6      13,000 people receive #wildfires evacuation or...      1\n",
       "7      Just got sent this photo from Ruby #Alaska as ...      1\n",
       "...                                                  ...    ...\n",
       "10869  Two giant cranes holding a bridge collapse int...      1\n",
       "10870  @aria_ahrary @TheTawniest The out of control w...      1\n",
       "10871  M1.94 [01:04 UTC]?5km S of Volcano Hawaii. htt...      1\n",
       "10872  Police investigating after an e-bike collided ...      1\n",
       "10873  The Latest: More Homes Razed by Northern Calif...      1\n",
       "\n",
       "[7613 rows x 2 columns]"
      ]
     },
     "execution_count": 14,
     "metadata": {},
     "output_type": "execute_result"
    }
   ],
   "source": [
    "df"
   ]
  },
  {
   "cell_type": "code",
   "execution_count": 15,
   "metadata": {
    "_kg_hide-output": true,
    "execution": {
     "iopub.execute_input": "2024-01-25T10:20:01.436469Z",
     "iopub.status.busy": "2024-01-25T10:20:01.436086Z",
     "iopub.status.idle": "2024-01-25T10:20:01.453921Z",
     "shell.execute_reply": "2024-01-25T10:20:01.452940Z",
     "shell.execute_reply.started": "2024-01-25T10:20:01.436440Z"
    }
   },
   "outputs": [
    {
     "data": {
      "text/plain": [
       "((6090, 2), (1523, 2))"
      ]
     },
     "execution_count": 15,
     "metadata": {},
     "output_type": "execute_result"
    }
   ],
   "source": [
    "train_df, eval_df = train_test_split(df, test_size=0.2, stratify=df.label, random_state=42)\n",
    "train_df.shape, eval_df.shape"
   ]
  },
  {
   "cell_type": "code",
   "execution_count": 21,
   "metadata": {
    "_kg_hide-output": true,
    "execution": {
     "iopub.execute_input": "2024-01-25T10:21:19.895129Z",
     "iopub.status.busy": "2024-01-25T10:21:19.894762Z",
     "iopub.status.idle": "2024-01-25T10:21:19.924065Z",
     "shell.execute_reply": "2024-01-25T10:21:19.923105Z",
     "shell.execute_reply.started": "2024-01-25T10:21:19.895103Z"
    }
   },
   "outputs": [],
   "source": [
    "ds_dict = {'train' : Dataset.from_pandas(train_df),\n",
    "           'eval' : Dataset.from_pandas(eval_df)}\n",
    "dataset = DatasetDict(ds_dict)"
   ]
  },
  {
   "cell_type": "code",
   "execution_count": 22,
   "metadata": {
    "_kg_hide-output": true,
    "execution": {
     "iopub.execute_input": "2024-01-25T10:21:22.214154Z",
     "iopub.status.busy": "2024-01-25T10:21:22.213243Z",
     "iopub.status.idle": "2024-01-25T10:21:22.220258Z",
     "shell.execute_reply": "2024-01-25T10:21:22.219265Z",
     "shell.execute_reply.started": "2024-01-25T10:21:22.214118Z"
    }
   },
   "outputs": [
    {
     "data": {
      "text/plain": [
       "DatasetDict({\n",
       "    train: Dataset({\n",
       "        features: ['text', 'label', 'id'],\n",
       "        num_rows: 6090\n",
       "    })\n",
       "    eval: Dataset({\n",
       "        features: ['text', 'label', 'id'],\n",
       "        num_rows: 1523\n",
       "    })\n",
       "})"
      ]
     },
     "execution_count": 22,
     "metadata": {},
     "output_type": "execute_result"
    }
   ],
   "source": [
    "dataset"
   ]
  },
  {
   "cell_type": "code",
   "execution_count": 23,
   "metadata": {
    "_kg_hide-output": true,
    "execution": {
     "iopub.execute_input": "2024-01-25T10:21:24.919413Z",
     "iopub.status.busy": "2024-01-25T10:21:24.919030Z",
     "iopub.status.idle": "2024-01-25T10:21:25.832155Z",
     "shell.execute_reply": "2024-01-25T10:21:25.831180Z",
     "shell.execute_reply.started": "2024-01-25T10:21:24.919379Z"
    }
   },
   "outputs": [
    {
     "data": {
      "application/vnd.jupyter.widget-view+json": {
       "model_id": "7b80e4856b294f33ae3fe451e3212259",
       "version_major": 2,
       "version_minor": 0
      },
      "text/plain": [
       "tokenizer_config.json:   0%|          | 0.00/28.0 [00:00<?, ?B/s]"
      ]
     },
     "metadata": {},
     "output_type": "display_data"
    },
    {
     "data": {
      "application/vnd.jupyter.widget-view+json": {
       "model_id": "b069a0fe33bb4e48ae7d3148f24f16e5",
       "version_major": 2,
       "version_minor": 0
      },
      "text/plain": [
       "config.json:   0%|          | 0.00/483 [00:00<?, ?B/s]"
      ]
     },
     "metadata": {},
     "output_type": "display_data"
    },
    {
     "data": {
      "application/vnd.jupyter.widget-view+json": {
       "model_id": "6261cc47c07148a089e50430584f1864",
       "version_major": 2,
       "version_minor": 0
      },
      "text/plain": [
       "vocab.txt:   0%|          | 0.00/232k [00:00<?, ?B/s]"
      ]
     },
     "metadata": {},
     "output_type": "display_data"
    },
    {
     "data": {
      "application/vnd.jupyter.widget-view+json": {
       "model_id": "5c6dadd331f44ec8b2bfe6d043c17068",
       "version_major": 2,
       "version_minor": 0
      },
      "text/plain": [
       "tokenizer.json:   0%|          | 0.00/466k [00:00<?, ?B/s]"
      ]
     },
     "metadata": {},
     "output_type": "display_data"
    }
   ],
   "source": [
    "tokenizer = AutoTokenizer.from_pretrained(\"distilbert-base-uncased\")"
   ]
  },
  {
   "cell_type": "code",
   "execution_count": 24,
   "metadata": {
    "_kg_hide-output": true,
    "execution": {
     "iopub.execute_input": "2024-01-25T10:21:27.625205Z",
     "iopub.status.busy": "2024-01-25T10:21:27.624225Z",
     "iopub.status.idle": "2024-01-25T10:21:27.629858Z",
     "shell.execute_reply": "2024-01-25T10:21:27.628908Z",
     "shell.execute_reply.started": "2024-01-25T10:21:27.625168Z"
    }
   },
   "outputs": [],
   "source": [
    "def preprocess_function(examples):\n",
    "    return tokenizer(examples[\"text\"], truncation=True)"
   ]
  },
  {
   "cell_type": "code",
   "execution_count": 25,
   "metadata": {
    "_kg_hide-output": true,
    "execution": {
     "iopub.execute_input": "2024-01-25T10:21:28.533775Z",
     "iopub.status.busy": "2024-01-25T10:21:28.533041Z",
     "iopub.status.idle": "2024-01-25T10:21:29.507320Z",
     "shell.execute_reply": "2024-01-25T10:21:29.506326Z",
     "shell.execute_reply.started": "2024-01-25T10:21:28.533740Z"
    }
   },
   "outputs": [
    {
     "data": {
      "application/vnd.jupyter.widget-view+json": {
       "model_id": "417e68c2823847ac8fcc50c723f28961",
       "version_major": 2,
       "version_minor": 0
      },
      "text/plain": [
       "  0%|          | 0/7 [00:00<?, ?ba/s]"
      ]
     },
     "metadata": {},
     "output_type": "display_data"
    },
    {
     "data": {
      "application/vnd.jupyter.widget-view+json": {
       "model_id": "5288038c84f7496b9f5f7500170a39af",
       "version_major": 2,
       "version_minor": 0
      },
      "text/plain": [
       "  0%|          | 0/2 [00:00<?, ?ba/s]"
      ]
     },
     "metadata": {},
     "output_type": "display_data"
    }
   ],
   "source": [
    "tokenized_tweets = dataset.map(preprocess_function, batched=True)"
   ]
  },
  {
   "cell_type": "markdown",
   "metadata": {
    "_kg_hide-output": true
   },
   "source": [
    "# Batch of Examples"
   ]
  },
  {
   "cell_type": "code",
   "execution_count": 26,
   "metadata": {
    "_kg_hide-output": true,
    "execution": {
     "iopub.execute_input": "2024-01-25T10:21:31.956838Z",
     "iopub.status.busy": "2024-01-25T10:21:31.956442Z",
     "iopub.status.idle": "2024-01-25T10:21:31.961882Z",
     "shell.execute_reply": "2024-01-25T10:21:31.960790Z",
     "shell.execute_reply.started": "2024-01-25T10:21:31.956808Z"
    }
   },
   "outputs": [],
   "source": [
    "data_collator = DataCollatorWithPadding(tokenizer=tokenizer)"
   ]
  },
  {
   "cell_type": "markdown",
   "metadata": {
    "_kg_hide-output": true
   },
   "source": [
    "# Load Evaluation Metric"
   ]
  },
  {
   "cell_type": "code",
   "execution_count": 27,
   "metadata": {
    "_kg_hide-output": true,
    "execution": {
     "iopub.execute_input": "2024-01-25T10:21:34.547320Z",
     "iopub.status.busy": "2024-01-25T10:21:34.546626Z",
     "iopub.status.idle": "2024-01-25T10:21:35.030635Z",
     "shell.execute_reply": "2024-01-25T10:21:35.029856Z",
     "shell.execute_reply.started": "2024-01-25T10:21:34.547288Z"
    }
   },
   "outputs": [
    {
     "data": {
      "application/vnd.jupyter.widget-view+json": {
       "model_id": "e9d61dd2633d485990280172a34bfd30",
       "version_major": 2,
       "version_minor": 0
      },
      "text/plain": [
       "Downloading builder script:   0%|          | 0.00/4.20k [00:00<?, ?B/s]"
      ]
     },
     "metadata": {},
     "output_type": "display_data"
    }
   ],
   "source": [
    "accuracy = evaluate.load('accuracy')"
   ]
  },
  {
   "cell_type": "markdown",
   "metadata": {
    "_kg_hide-output": true
   },
   "source": [
    "Function that computes accuracy given (prediction, label)"
   ]
  },
  {
   "cell_type": "code",
   "execution_count": 28,
   "metadata": {
    "_kg_hide-output": true,
    "execution": {
     "iopub.execute_input": "2024-01-25T10:21:37.250808Z",
     "iopub.status.busy": "2024-01-25T10:21:37.249866Z",
     "iopub.status.idle": "2024-01-25T10:21:37.255538Z",
     "shell.execute_reply": "2024-01-25T10:21:37.254557Z",
     "shell.execute_reply.started": "2024-01-25T10:21:37.250770Z"
    }
   },
   "outputs": [],
   "source": [
    "def compute_metrics(eval_pred):\n",
    "    predictions, labels = eval_pred\n",
    "    predictions = np.argmax(predictions, axis=1)\n",
    "    return accuracy.compute(predictions=predictions, references=labels)"
   ]
  },
  {
   "cell_type": "code",
   "execution_count": 29,
   "metadata": {
    "_kg_hide-output": true,
    "execution": {
     "iopub.execute_input": "2024-01-25T10:21:39.217437Z",
     "iopub.status.busy": "2024-01-25T10:21:39.216571Z",
     "iopub.status.idle": "2024-01-25T10:21:39.221995Z",
     "shell.execute_reply": "2024-01-25T10:21:39.220939Z",
     "shell.execute_reply.started": "2024-01-25T10:21:39.217398Z"
    }
   },
   "outputs": [],
   "source": [
    "id2label = {0: \"Normal\", 1: \"Disaster\"}\n",
    "label2id = {\"Normal\": 0, \"Disaster\": 1}"
   ]
  },
  {
   "cell_type": "code",
   "execution_count": 30,
   "metadata": {
    "_kg_hide-output": true,
    "execution": {
     "iopub.execute_input": "2024-01-25T10:21:41.510333Z",
     "iopub.status.busy": "2024-01-25T10:21:41.509571Z",
     "iopub.status.idle": "2024-01-25T10:21:43.252352Z",
     "shell.execute_reply": "2024-01-25T10:21:43.251422Z",
     "shell.execute_reply.started": "2024-01-25T10:21:41.510302Z"
    }
   },
   "outputs": [
    {
     "data": {
      "application/vnd.jupyter.widget-view+json": {
       "model_id": "2fe67ba7d9274ebcbde352e3b785c505",
       "version_major": 2,
       "version_minor": 0
      },
      "text/plain": [
       "model.safetensors:   0%|          | 0.00/268M [00:00<?, ?B/s]"
      ]
     },
     "metadata": {},
     "output_type": "display_data"
    },
    {
     "name": "stderr",
     "output_type": "stream",
     "text": [
      "Some weights of DistilBertForSequenceClassification were not initialized from the model checkpoint at distilbert-base-uncased and are newly initialized: ['classifier.weight', 'classifier.bias', 'pre_classifier.weight', 'pre_classifier.bias']\n",
      "You should probably TRAIN this model on a down-stream task to be able to use it for predictions and inference.\n"
     ]
    }
   ],
   "source": [
    "model = AutoModelForSequenceClassification.from_pretrained(\"distilbert-base-uncased\", num_labels=2, id2label=id2label, label2id=label2id)"
   ]
  },
  {
   "cell_type": "code",
   "execution_count": 39,
   "metadata": {
    "_kg_hide-output": true,
    "execution": {
     "iopub.execute_input": "2024-01-25T10:28:32.106191Z",
     "iopub.status.busy": "2024-01-25T10:28:32.105489Z",
     "iopub.status.idle": "2024-01-25T10:28:32.116592Z",
     "shell.execute_reply": "2024-01-25T10:28:32.115375Z",
     "shell.execute_reply.started": "2024-01-25T10:28:32.106155Z"
    }
   },
   "outputs": [],
   "source": [
    "training_args = TrainingArguments(\n",
    "                    output_dir = \"disaster_tweet_distilbert\",\n",
    "                    learning_rate = 2e-5,\n",
    "                    per_device_train_batch_size = 16,\n",
    "                    per_device_eval_batch_size = 16,\n",
    "                    num_train_epochs = 2,\n",
    "                    weight_decay = 0.01,\n",
    "                    evaluation_strategy = \"epoch\",\n",
    "                    save_strategy = \"epoch\",\n",
    "                    load_best_model_at_end = True,\n",
    "                    push_to_hub=True,\n",
    "                                )"
   ]
  },
  {
   "cell_type": "code",
   "execution_count": 42,
   "metadata": {
    "_kg_hide-output": true,
    "execution": {
     "iopub.execute_input": "2024-01-25T10:29:31.326890Z",
     "iopub.status.busy": "2024-01-25T10:29:31.326170Z",
     "iopub.status.idle": "2024-01-25T10:29:31.953637Z",
     "shell.execute_reply": "2024-01-25T10:29:31.952437Z",
     "shell.execute_reply.started": "2024-01-25T10:29:31.326856Z"
    }
   },
   "outputs": [],
   "source": [
    "trainer = Trainer(\n",
    "    model=model,\n",
    "    args=training_args,\n",
    "    train_dataset=tokenized_tweets['train'],\n",
    "    eval_dataset=tokenized_tweets['eval'],\n",
    "    tokenizer=tokenizer,\n",
    "    data_collator=data_collator,\n",
    "    compute_metrics=compute_metrics,\n",
    ")"
   ]
  },
  {
   "cell_type": "code",
   "execution_count": 43,
   "metadata": {
    "_kg_hide-output": true,
    "execution": {
     "iopub.execute_input": "2024-01-25T10:29:34.042860Z",
     "iopub.status.busy": "2024-01-25T10:29:34.042088Z",
     "iopub.status.idle": "2024-01-25T10:30:53.312254Z",
     "shell.execute_reply": "2024-01-25T10:30:53.311136Z",
     "shell.execute_reply.started": "2024-01-25T10:29:34.042827Z"
    }
   },
   "outputs": [
    {
     "name": "stderr",
     "output_type": "stream",
     "text": [
      "/opt/conda/lib/python3.10/site-packages/torch/nn/parallel/_functions.py:68: UserWarning: Was asked to gather along dimension 0, but all input tensors were scalars; will instead unsqueeze and return a vector.\n",
      "  warnings.warn('Was asked to gather along dimension 0, but all '\n"
     ]
    },
    {
     "data": {
      "text/html": [
       "\n",
       "    <div>\n",
       "      \n",
       "      <progress value='382' max='382' style='width:300px; height:20px; vertical-align: middle;'></progress>\n",
       "      [382/382 01:07, Epoch 2/2]\n",
       "    </div>\n",
       "    <table border=\"1\" class=\"dataframe\">\n",
       "  <thead>\n",
       " <tr style=\"text-align: left;\">\n",
       "      <th>Epoch</th>\n",
       "      <th>Training Loss</th>\n",
       "      <th>Validation Loss</th>\n",
       "      <th>Accuracy</th>\n",
       "    </tr>\n",
       "  </thead>\n",
       "  <tbody>\n",
       "    <tr>\n",
       "      <td>1</td>\n",
       "      <td>No log</td>\n",
       "      <td>0.409856</td>\n",
       "      <td>0.850295</td>\n",
       "    </tr>\n",
       "    <tr>\n",
       "      <td>2</td>\n",
       "      <td>No log</td>\n",
       "      <td>0.438578</td>\n",
       "      <td>0.840446</td>\n",
       "    </tr>\n",
       "  </tbody>\n",
       "</table><p>"
      ],
      "text/plain": [
       "<IPython.core.display.HTML object>"
      ]
     },
     "metadata": {},
     "output_type": "display_data"
    },
    {
     "name": "stderr",
     "output_type": "stream",
     "text": [
      "Checkpoint destination directory disaster_tweet_distilbert/checkpoint-191 already exists and is non-empty.Saving will proceed but saved results may be invalid.\n",
      "/opt/conda/lib/python3.10/site-packages/torch/nn/parallel/_functions.py:68: UserWarning: Was asked to gather along dimension 0, but all input tensors were scalars; will instead unsqueeze and return a vector.\n",
      "  warnings.warn('Was asked to gather along dimension 0, but all '\n",
      "Checkpoint destination directory disaster_tweet_distilbert/checkpoint-382 already exists and is non-empty.Saving will proceed but saved results may be invalid.\n"
     ]
    },
    {
     "data": {
      "text/plain": [
       "TrainOutput(global_step=382, training_loss=0.23959334608147906, metrics={'train_runtime': 68.0293, 'train_samples_per_second': 179.04, 'train_steps_per_second': 5.615, 'total_flos': 183083398662768.0, 'train_loss': 0.23959334608147906, 'epoch': 2.0})"
      ]
     },
     "execution_count": 43,
     "metadata": {},
     "output_type": "execute_result"
    }
   ],
   "source": [
    "trainer.train()"
   ]
  },
  {
   "cell_type": "code",
   "execution_count": 44,
   "metadata": {
    "_kg_hide-output": true,
    "execution": {
     "iopub.execute_input": "2024-01-25T10:30:55.894300Z",
     "iopub.status.busy": "2024-01-25T10:30:55.893915Z",
     "iopub.status.idle": "2024-01-25T10:30:58.260055Z",
     "shell.execute_reply": "2024-01-25T10:30:58.258877Z",
     "shell.execute_reply.started": "2024-01-25T10:30:55.894270Z"
    }
   },
   "outputs": [
    {
     "data": {
      "text/plain": [
       "CommitInfo(commit_url='https://huggingface.co/HilariusJeremy/disaster_tweet_distilbert/commit/da917dd016ab53cf945b9a2c9fb8ab8975fc558a', commit_message='End of training', commit_description='', oid='da917dd016ab53cf945b9a2c9fb8ab8975fc558a', pr_url=None, pr_revision=None, pr_num=None)"
      ]
     },
     "execution_count": 44,
     "metadata": {},
     "output_type": "execute_result"
    }
   ],
   "source": [
    "trainer.push_to_hub()"
   ]
  },
  {
   "cell_type": "markdown",
   "metadata": {
    "_kg_hide-output": true
   },
   "source": [
    "# Load The Fine-Tuned Model"
   ]
  },
  {
   "cell_type": "code",
   "execution_count": 11,
   "metadata": {
    "_kg_hide-output": true,
    "execution": {
     "iopub.execute_input": "2024-01-25T10:40:44.658863Z",
     "iopub.status.busy": "2024-01-25T10:40:44.658414Z",
     "iopub.status.idle": "2024-01-25T10:40:45.147473Z",
     "shell.execute_reply": "2024-01-25T10:40:45.146392Z",
     "shell.execute_reply.started": "2024-01-25T10:40:44.658826Z"
    }
   },
   "outputs": [],
   "source": [
    "from transformers import pipeline\n",
    "classifier = pipeline(model=\"HilariusJeremy/disaster_tweet_distilbert\")"
   ]
  },
  {
   "cell_type": "markdown",
   "metadata": {
    "_kg_hide-output": true
   },
   "source": [
    "# Inference and Submission"
   ]
  },
  {
   "cell_type": "code",
   "execution_count": 25,
   "metadata": {
    "_kg_hide-output": true,
    "execution": {
     "iopub.execute_input": "2024-01-25T10:43:54.445455Z",
     "iopub.status.busy": "2024-01-25T10:43:54.444254Z",
     "iopub.status.idle": "2024-01-25T10:43:54.477715Z",
     "shell.execute_reply": "2024-01-25T10:43:54.475996Z",
     "shell.execute_reply.started": "2024-01-25T10:43:54.445395Z"
    }
   },
   "outputs": [
    {
     "data": {
      "text/html": [
       "<div>\n",
       "<style scoped>\n",
       "    .dataframe tbody tr th:only-of-type {\n",
       "        vertical-align: middle;\n",
       "    }\n",
       "\n",
       "    .dataframe tbody tr th {\n",
       "        vertical-align: top;\n",
       "    }\n",
       "\n",
       "    .dataframe thead th {\n",
       "        text-align: right;\n",
       "    }\n",
       "</style>\n",
       "<table border=\"1\" class=\"dataframe\">\n",
       "  <thead>\n",
       "    <tr style=\"text-align: right;\">\n",
       "      <th></th>\n",
       "      <th>id</th>\n",
       "      <th>keyword</th>\n",
       "      <th>location</th>\n",
       "      <th>text</th>\n",
       "    </tr>\n",
       "  </thead>\n",
       "  <tbody>\n",
       "    <tr>\n",
       "      <th>0</th>\n",
       "      <td>0</td>\n",
       "      <td>NaN</td>\n",
       "      <td>NaN</td>\n",
       "      <td>Just happened a terrible car crash</td>\n",
       "    </tr>\n",
       "    <tr>\n",
       "      <th>1</th>\n",
       "      <td>2</td>\n",
       "      <td>NaN</td>\n",
       "      <td>NaN</td>\n",
       "      <td>Heard about #earthquake is different cities, s...</td>\n",
       "    </tr>\n",
       "    <tr>\n",
       "      <th>2</th>\n",
       "      <td>3</td>\n",
       "      <td>NaN</td>\n",
       "      <td>NaN</td>\n",
       "      <td>there is a forest fire at spot pond, geese are...</td>\n",
       "    </tr>\n",
       "    <tr>\n",
       "      <th>3</th>\n",
       "      <td>9</td>\n",
       "      <td>NaN</td>\n",
       "      <td>NaN</td>\n",
       "      <td>Apocalypse lighting. #Spokane #wildfires</td>\n",
       "    </tr>\n",
       "    <tr>\n",
       "      <th>4</th>\n",
       "      <td>11</td>\n",
       "      <td>NaN</td>\n",
       "      <td>NaN</td>\n",
       "      <td>Typhoon Soudelor kills 28 in China and Taiwan</td>\n",
       "    </tr>\n",
       "    <tr>\n",
       "      <th>...</th>\n",
       "      <td>...</td>\n",
       "      <td>...</td>\n",
       "      <td>...</td>\n",
       "      <td>...</td>\n",
       "    </tr>\n",
       "    <tr>\n",
       "      <th>3258</th>\n",
       "      <td>10861</td>\n",
       "      <td>NaN</td>\n",
       "      <td>NaN</td>\n",
       "      <td>EARTHQUAKE SAFETY LOS ANGELES ÛÒ SAFETY FASTE...</td>\n",
       "    </tr>\n",
       "    <tr>\n",
       "      <th>3259</th>\n",
       "      <td>10865</td>\n",
       "      <td>NaN</td>\n",
       "      <td>NaN</td>\n",
       "      <td>Storm in RI worse than last hurricane. My city...</td>\n",
       "    </tr>\n",
       "    <tr>\n",
       "      <th>3260</th>\n",
       "      <td>10868</td>\n",
       "      <td>NaN</td>\n",
       "      <td>NaN</td>\n",
       "      <td>Green Line derailment in Chicago http://t.co/U...</td>\n",
       "    </tr>\n",
       "    <tr>\n",
       "      <th>3261</th>\n",
       "      <td>10874</td>\n",
       "      <td>NaN</td>\n",
       "      <td>NaN</td>\n",
       "      <td>MEG issues Hazardous Weather Outlook (HWO) htt...</td>\n",
       "    </tr>\n",
       "    <tr>\n",
       "      <th>3262</th>\n",
       "      <td>10875</td>\n",
       "      <td>NaN</td>\n",
       "      <td>NaN</td>\n",
       "      <td>#CityofCalgary has activated its Municipal Eme...</td>\n",
       "    </tr>\n",
       "  </tbody>\n",
       "</table>\n",
       "<p>3263 rows × 4 columns</p>\n",
       "</div>"
      ],
      "text/plain": [
       "         id keyword location  \\\n",
       "0         0     NaN      NaN   \n",
       "1         2     NaN      NaN   \n",
       "2         3     NaN      NaN   \n",
       "3         9     NaN      NaN   \n",
       "4        11     NaN      NaN   \n",
       "...     ...     ...      ...   \n",
       "3258  10861     NaN      NaN   \n",
       "3259  10865     NaN      NaN   \n",
       "3260  10868     NaN      NaN   \n",
       "3261  10874     NaN      NaN   \n",
       "3262  10875     NaN      NaN   \n",
       "\n",
       "                                                   text  \n",
       "0                    Just happened a terrible car crash  \n",
       "1     Heard about #earthquake is different cities, s...  \n",
       "2     there is a forest fire at spot pond, geese are...  \n",
       "3              Apocalypse lighting. #Spokane #wildfires  \n",
       "4         Typhoon Soudelor kills 28 in China and Taiwan  \n",
       "...                                                 ...  \n",
       "3258  EARTHQUAKE SAFETY LOS ANGELES ÛÒ SAFETY FASTE...  \n",
       "3259  Storm in RI worse than last hurricane. My city...  \n",
       "3260  Green Line derailment in Chicago http://t.co/U...  \n",
       "3261  MEG issues Hazardous Weather Outlook (HWO) htt...  \n",
       "3262  #CityofCalgary has activated its Municipal Eme...  \n",
       "\n",
       "[3263 rows x 4 columns]"
      ]
     },
     "execution_count": 25,
     "metadata": {},
     "output_type": "execute_result"
    }
   ],
   "source": [
    "test_df = pd.read_csv(\"./data/test.csv\")\n",
    "test_df"
   ]
  },
  {
   "cell_type": "code",
   "execution_count": 29,
   "metadata": {
    "_kg_hide-output": true,
    "execution": {
     "iopub.execute_input": "2024-01-25T10:50:20.190388Z",
     "iopub.status.busy": "2024-01-25T10:50:20.189880Z",
     "iopub.status.idle": "2024-01-25T10:53:19.119128Z",
     "shell.execute_reply": "2024-01-25T10:53:19.117752Z",
     "shell.execute_reply.started": "2024-01-25T10:50:20.190351Z"
    }
   },
   "outputs": [
    {
     "name": "stderr",
     "output_type": "stream",
     "text": [
      "100%|██████████| 3263/3263 [02:58<00:00, 18.24it/s]\n"
     ]
    }
   ],
   "source": [
    "tqdm.pandas()\n",
    "output_df = pd.DataFrame()\n",
    "output_df['id'] = test_df['id']\n",
    "output_df['target'] = test_df['text'].progress_apply(lambda x: int(classifier(x)[0]['score'] > 0.5))"
   ]
  },
  {
   "cell_type": "code",
   "execution_count": 31,
   "metadata": {
    "_kg_hide-output": true,
    "execution": {
     "iopub.execute_input": "2024-01-25T10:54:37.828277Z",
     "iopub.status.busy": "2024-01-25T10:54:37.827711Z",
     "iopub.status.idle": "2024-01-25T10:54:37.852066Z",
     "shell.execute_reply": "2024-01-25T10:54:37.850797Z",
     "shell.execute_reply.started": "2024-01-25T10:54:37.828234Z"
    }
   },
   "outputs": [],
   "source": [
    "csv_filename = '/kaggle/working/output.csv'\n",
    "output_df.to_csv(csv_filename, index=False)"
   ]
  }
 ],
 "metadata": {
  "kaggle": {
   "accelerator": "none",
   "dataSources": [
    {
     "databundleVersionId": 869809,
     "sourceId": 17777,
     "sourceType": "competition"
    }
   ],
   "dockerImageVersionId": 30636,
   "isGpuEnabled": false,
   "isInternetEnabled": true,
   "language": "python",
   "sourceType": "notebook"
  },
  "kernelspec": {
   "display_name": "Python 3 (ipykernel)",
   "language": "python",
   "name": "python3"
  },
  "language_info": {
   "codemirror_mode": {
    "name": "ipython",
    "version": 3
   },
   "file_extension": ".py",
   "mimetype": "text/x-python",
   "name": "python",
   "nbconvert_exporter": "python",
   "pygments_lexer": "ipython3",
   "version": "3.9.18"
  },
  "varInspector": {
   "cols": {
    "lenName": 16,
    "lenType": 16,
    "lenVar": 40
   },
   "kernels_config": {
    "python": {
     "delete_cmd_postfix": "",
     "delete_cmd_prefix": "del ",
     "library": "var_list.py",
     "varRefreshCmd": "print(var_dic_list())"
    },
    "r": {
     "delete_cmd_postfix": ") ",
     "delete_cmd_prefix": "rm(",
     "library": "var_list.r",
     "varRefreshCmd": "cat(var_dic_list()) "
    }
   },
   "types_to_exclude": [
    "module",
    "function",
    "builtin_function_or_method",
    "instance",
    "_Feature"
   ],
   "window_display": false
  }
 },
 "nbformat": 4,
 "nbformat_minor": 4
}
